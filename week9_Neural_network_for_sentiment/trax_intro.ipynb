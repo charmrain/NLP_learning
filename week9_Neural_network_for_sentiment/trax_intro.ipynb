{
 "cells": [
  {
   "cell_type": "markdown",
   "metadata": {},
   "source": [
    "# Trax : Ungraded Lecture Notebook\n",
    "\n",
    "In this notebook you'll get to know about the Trax framework and learn about some of its basic building blocks.\n",
    "\n"
   ]
  },
  {
   "cell_type": "markdown",
   "metadata": {},
   "source": [
    "## Background\n",
    "\n",
    "### Why Trax and not TensorFlow or PyTorch?\n",
    "\n",
    "TensorFlow and PyTorch are both extensive frameworks that can do almost anything in deep learning. They offer a lot of flexibility, but that often means verbosity of syntax and extra time to code.\n",
    "\n",
    "Trax is much more concise. It runs on a TensorFlow backend but allows you to train models with 1 line commands. Trax also runs end to end, allowing you to get data, model and train all with a single terse statements. This means you can focus on learning, instead of spending hours on the idiosyncrasies of big framework implementation.\n",
    "\n",
    "### Why not Keras then?\n",
    "\n",
    "Keras is now part of Tensorflow itself from 2.0 onwards. Also, trax is good for implementing new state of the art algorithms like Transformers, Reformers, BERT because it is actively maintained by Google Brain Team for advanced deep learning tasks. It runs smoothly on CPUs,GPUs and TPUs as well with comparatively lesser modifications in code.\n",
    "\n",
    "### How to Code in Trax\n",
    "Building models in Trax relies on 2 key concepts:- **layers** and **combinators**.\n",
    "Trax layers are simple objects that process data and perform computations. They can be chained together into composite layers using Trax combinators, allowing you to build layers and models of any complexity.\n",
    "\n",
    "### Trax, JAX, TensorFlow and Tensor2Tensor\n",
    "\n",
    "You already know that Trax uses Tensorflow as a backend, but it also uses the JAX library to speed up computation too. You can view JAX as an enhanced and optimized version of numpy. \n",
    "\n",
    "**Watch out for assignments which import `import trax.fastmath.numpy as np`. If you see this line, remember that when calling `np` you are really calling Trax’s version of numpy that is compatible with JAX.**\n",
    "\n",
    "As a result of this, where you used to encounter the type `numpy.ndarray` now you will find the type `jax.interpreters.xla.DeviceArray`.\n",
    "\n",
    "Tensor2Tensor is another name you might have heard. It started as an end to end solution much like how Trax is designed, but it grew unwieldy and complicated. So you can view Trax as the new improved version that operates much faster and simpler.\n",
    "\n",
    "### Resources\n",
    "\n",
    "- Trax source code can be found on Github: [Trax](https://github.com/google/trax)\n",
    "- JAX library: [JAX](https://jax.readthedocs.io/en/latest/index.html)\n"
   ]
  },
  {
   "cell_type": "markdown",
   "metadata": {},
   "source": [
    "## Installing Trax\n",
    "\n",
    "Trax has dependencies on JAX and some libraries like JAX which are yet to be supported in [Windows](https://github.com/google/jax/blob/1bc5896ee4eab5d7bb4ec6f161d8b2abb30557be/README.md#installation) but work well in Ubuntu and MacOS. We would suggest that if you are working on Windows, try to install Trax on WSL2. \n",
    "\n",
    "Official maintained documentation - [trax-ml](https://trax-ml.readthedocs.io/en/latest/) not to be confused with this [TraX](https://trax.readthedocs.io/en/latest/index.html)"
   ]
  },
  {
   "cell_type": "code",
   "execution_count": 6,
   "metadata": {},
   "outputs": [
    {
     "name": "stdout",
     "output_type": "stream",
     "text": [
      "Collecting trax==1.3.9\n",
      "  Using cached trax-1.3.9-py2.py3-none-any.whl (629 kB)\n",
      "Requirement already satisfied: absl-py in /Library/Frameworks/Python.framework/Versions/3.10/lib/python3.10/site-packages (from trax==1.3.9) (1.4.0)\n",
      "Requirement already satisfied: funcsigs in /Library/Frameworks/Python.framework/Versions/3.10/lib/python3.10/site-packages (from trax==1.3.9) (1.0.2)\n",
      "Requirement already satisfied: gin-config in /Library/Frameworks/Python.framework/Versions/3.10/lib/python3.10/site-packages (from trax==1.3.9) (0.5.0)\n",
      "Requirement already satisfied: gym in /Library/Frameworks/Python.framework/Versions/3.10/lib/python3.10/site-packages (from trax==1.3.9) (0.26.2)\n",
      "Requirement already satisfied: jax in /Library/Frameworks/Python.framework/Versions/3.10/lib/python3.10/site-packages (from trax==1.3.9) (0.4.13)\n",
      "Requirement already satisfied: jaxlib in /Library/Frameworks/Python.framework/Versions/3.10/lib/python3.10/site-packages (from trax==1.3.9) (0.4.13)\n",
      "Requirement already satisfied: matplotlib in /Library/Frameworks/Python.framework/Versions/3.10/lib/python3.10/site-packages (from trax==1.3.9) (3.5.2)\n",
      "Requirement already satisfied: numpy in /Library/Frameworks/Python.framework/Versions/3.10/lib/python3.10/site-packages (from trax==1.3.9) (1.25.0)\n",
      "Requirement already satisfied: psutil in /Library/Frameworks/Python.framework/Versions/3.10/lib/python3.10/site-packages (from trax==1.3.9) (5.9.1)\n",
      "Requirement already satisfied: scipy in /Library/Frameworks/Python.framework/Versions/3.10/lib/python3.10/site-packages (from trax==1.3.9) (1.8.1)\n",
      "Requirement already satisfied: six in /Library/Frameworks/Python.framework/Versions/3.10/lib/python3.10/site-packages (from trax==1.3.9) (1.16.0)\n",
      "Collecting t5 (from trax==1.3.9)\n",
      "  Using cached t5-0.9.4-py2.py3-none-any.whl (164 kB)\n",
      "Requirement already satisfied: tensorflow-datasets in /Library/Frameworks/Python.framework/Versions/3.10/lib/python3.10/site-packages (from trax==1.3.9) (4.9.2)\n",
      "INFO: pip is looking at multiple versions of trax to determine which version is compatible with other requirements. This could take a while.\n",
      "\u001b[31mERROR: Could not find a version that satisfies the requirement tensorflow-text (from trax) (from versions: none)\u001b[0m\u001b[31m\n",
      "\u001b[0m\u001b[31mERROR: No matching distribution found for tensorflow-text\u001b[0m\u001b[31m\n",
      "\u001b[0m"
     ]
    }
   ],
   "source": [
    "!pip install trax==1.3.9 "
   ]
  },
  {
   "cell_type": "markdown",
   "metadata": {},
   "source": [
    "\n",
    "## Imports"
   ]
  },
  {
   "cell_type": "code",
   "execution_count": 7,
   "metadata": {},
   "outputs": [
    {
     "ename": "ValueError",
     "evalue": "no signature found for builtin function <built-in function asarray>",
     "output_type": "error",
     "traceback": [
      "\u001b[0;31m---------------------------------------------------------------------------\u001b[0m",
      "\u001b[0;31mValueError\u001b[0m                                Traceback (most recent call last)",
      "\u001b[1;32m/Users/anrui/Desktop/projects/8 NLP learning/NLP_learning/week9_Neural_network_for_sentiment/trax_intro.ipynb Cell 6\u001b[0m in \u001b[0;36m<cell line: 3>\u001b[0;34m()\u001b[0m\n\u001b[1;32m      <a href='vscode-notebook-cell:/Users/anrui/Desktop/projects/8%20NLP%20learning/NLP_learning/week9_Neural_network_for_sentiment/trax_intro.ipynb#X12sZmlsZQ%3D%3D?line=0'>1</a>\u001b[0m \u001b[39mimport\u001b[39;00m \u001b[39mnumpy\u001b[39;00m \u001b[39mas\u001b[39;00m \u001b[39mnp\u001b[39;00m  \u001b[39m# regular ol' numpy\u001b[39;00m\n\u001b[0;32m----> <a href='vscode-notebook-cell:/Users/anrui/Desktop/projects/8%20NLP%20learning/NLP_learning/week9_Neural_network_for_sentiment/trax_intro.ipynb#X12sZmlsZQ%3D%3D?line=2'>3</a>\u001b[0m \u001b[39mfrom\u001b[39;00m \u001b[39mtrax\u001b[39;00m \u001b[39mimport\u001b[39;00m layers \u001b[39mas\u001b[39;00m tl  \u001b[39m# core building block\u001b[39;00m\n\u001b[1;32m      <a href='vscode-notebook-cell:/Users/anrui/Desktop/projects/8%20NLP%20learning/NLP_learning/week9_Neural_network_for_sentiment/trax_intro.ipynb#X12sZmlsZQ%3D%3D?line=3'>4</a>\u001b[0m \u001b[39mfrom\u001b[39;00m \u001b[39mtrax\u001b[39;00m \u001b[39mimport\u001b[39;00m shapes  \u001b[39m# data signatures: dimensionality and type\u001b[39;00m\n\u001b[1;32m      <a href='vscode-notebook-cell:/Users/anrui/Desktop/projects/8%20NLP%20learning/NLP_learning/week9_Neural_network_for_sentiment/trax_intro.ipynb#X12sZmlsZQ%3D%3D?line=4'>5</a>\u001b[0m \u001b[39mfrom\u001b[39;00m \u001b[39mtrax\u001b[39;00m \u001b[39mimport\u001b[39;00m fastmath\n",
      "File \u001b[0;32m/Library/Frameworks/Python.framework/Versions/3.10/lib/python3.10/site-packages/trax/__init__.py:18\u001b[0m, in \u001b[0;36m<module>\u001b[0;34m\u001b[0m\n\u001b[1;32m      1\u001b[0m \u001b[39m# coding=utf-8\u001b[39;00m\n\u001b[1;32m      2\u001b[0m \u001b[39m# Copyright 2020 The Trax Authors.\u001b[39;00m\n\u001b[1;32m      3\u001b[0m \u001b[39m#\u001b[39;00m\n\u001b[0;32m   (...)\u001b[0m\n\u001b[1;32m     13\u001b[0m \u001b[39m# See the License for the specific language governing permissions and\u001b[39;00m\n\u001b[1;32m     14\u001b[0m \u001b[39m# limitations under the License.\u001b[39;00m\n\u001b[1;32m     16\u001b[0m \u001b[39m\"\"\"Trax top level import.\"\"\"\u001b[39;00m\n\u001b[0;32m---> 18\u001b[0m \u001b[39mfrom\u001b[39;00m \u001b[39mtrax\u001b[39;00m \u001b[39mimport\u001b[39;00m layers\n\u001b[1;32m     19\u001b[0m \u001b[39mfrom\u001b[39;00m \u001b[39mtrax\u001b[39;00m \u001b[39mimport\u001b[39;00m lr_schedules \u001b[39mas\u001b[39;00m lr\n\u001b[1;32m     20\u001b[0m \u001b[39mfrom\u001b[39;00m \u001b[39mtrax\u001b[39;00m \u001b[39mimport\u001b[39;00m math\n",
      "File \u001b[0;32m/Library/Frameworks/Python.framework/Versions/3.10/lib/python3.10/site-packages/trax/layers/__init__.py:23\u001b[0m, in \u001b[0;36m<module>\u001b[0;34m\u001b[0m\n\u001b[1;32m     19\u001b[0m \u001b[39mimport\u001b[39;00m \u001b[39mgin\u001b[39;00m\n\u001b[1;32m     20\u001b[0m \u001b[39m# We create a flat layers.* namespace for uniform calling conventions as we\u001b[39;00m\n\u001b[1;32m     21\u001b[0m \u001b[39m# upstream changes.\u001b[39;00m\n\u001b[1;32m     22\u001b[0m \u001b[39m# pylint: disable=wildcard-import\u001b[39;00m\n\u001b[0;32m---> 23\u001b[0m \u001b[39mfrom\u001b[39;00m \u001b[39mtrax\u001b[39;00m\u001b[39m.\u001b[39;00m\u001b[39mlayers\u001b[39;00m\u001b[39m.\u001b[39;00m\u001b[39mactivation_fns\u001b[39;00m \u001b[39mimport\u001b[39;00m \u001b[39m*\u001b[39m\n\u001b[1;32m     24\u001b[0m \u001b[39mfrom\u001b[39;00m \u001b[39mtrax\u001b[39;00m\u001b[39m.\u001b[39;00m\u001b[39mlayers\u001b[39;00m\u001b[39m.\u001b[39;00m\u001b[39mattention\u001b[39;00m \u001b[39mimport\u001b[39;00m \u001b[39m*\u001b[39m\n\u001b[1;32m     25\u001b[0m \u001b[39mfrom\u001b[39;00m \u001b[39mtrax\u001b[39;00m\u001b[39m.\u001b[39;00m\u001b[39mlayers\u001b[39;00m\u001b[39m.\u001b[39;00m\u001b[39mbase\u001b[39;00m \u001b[39mimport\u001b[39;00m \u001b[39m*\u001b[39m\n",
      "File \u001b[0;32m/Library/Frameworks/Python.framework/Versions/3.10/lib/python3.10/site-packages/trax/layers/activation_fns.py:26\u001b[0m, in \u001b[0;36m<module>\u001b[0;34m\u001b[0m\n\u001b[1;32m      1\u001b[0m \u001b[39m# coding=utf-8\u001b[39;00m\n\u001b[1;32m      2\u001b[0m \u001b[39m# Copyright 2020 The Trax Authors.\u001b[39;00m\n\u001b[1;32m      3\u001b[0m \u001b[39m#\u001b[39;00m\n\u001b[0;32m   (...)\u001b[0m\n\u001b[1;32m     15\u001b[0m \n\u001b[1;32m     16\u001b[0m \u001b[39m# Lint as: python3\u001b[39;00m\n\u001b[1;32m     17\u001b[0m \u001b[39m\"\"\"Layers that compute activation functions.\u001b[39;00m\n\u001b[1;32m     18\u001b[0m \n\u001b[1;32m     19\u001b[0m \u001b[39mAn activation layer computes element-wise a nonlinear function of the preceding\u001b[39;00m\n\u001b[0;32m   (...)\u001b[0m\n\u001b[1;32m     23\u001b[0m \u001b[39measier experimentation across different activation functions.\u001b[39;00m\n\u001b[1;32m     24\u001b[0m \u001b[39m\"\"\"\u001b[39;00m\n\u001b[0;32m---> 26\u001b[0m \u001b[39mfrom\u001b[39;00m \u001b[39mtrax\u001b[39;00m \u001b[39mimport\u001b[39;00m math\n\u001b[1;32m     27\u001b[0m \u001b[39mfrom\u001b[39;00m \u001b[39mtrax\u001b[39;00m\u001b[39m.\u001b[39;00m\u001b[39mlayers\u001b[39;00m \u001b[39mimport\u001b[39;00m base\n\u001b[1;32m     28\u001b[0m \u001b[39mfrom\u001b[39;00m \u001b[39mtrax\u001b[39;00m\u001b[39m.\u001b[39;00m\u001b[39mmath\u001b[39;00m \u001b[39mimport\u001b[39;00m numpy \u001b[39mas\u001b[39;00m np\n",
      "File \u001b[0;32m/Library/Frameworks/Python.framework/Versions/3.10/lib/python3.10/site-packages/trax/math/__init__.py:20\u001b[0m, in \u001b[0;36m<module>\u001b[0;34m\u001b[0m\n\u001b[1;32m     18\u001b[0m \u001b[39mfrom\u001b[39;00m \u001b[39mtrax\u001b[39;00m\u001b[39m.\u001b[39;00m\u001b[39mmath\u001b[39;00m \u001b[39mimport\u001b[39;00m jax \u001b[39mas\u001b[39;00m jax_math\n\u001b[1;32m     19\u001b[0m \u001b[39mfrom\u001b[39;00m \u001b[39mtrax\u001b[39;00m\u001b[39m.\u001b[39;00m\u001b[39mmath\u001b[39;00m \u001b[39mimport\u001b[39;00m numpy \u001b[39mas\u001b[39;00m numpy_math\n\u001b[0;32m---> 20\u001b[0m \u001b[39mfrom\u001b[39;00m \u001b[39mtrax\u001b[39;00m\u001b[39m.\u001b[39;00m\u001b[39mmath\u001b[39;00m \u001b[39mimport\u001b[39;00m tf \u001b[39mas\u001b[39;00m tf_math\n\u001b[1;32m     21\u001b[0m \u001b[39mfrom\u001b[39;00m \u001b[39mtrax\u001b[39;00m\u001b[39m.\u001b[39;00m\u001b[39mmath\u001b[39;00m\u001b[39m.\u001b[39;00m\u001b[39mbackend\u001b[39;00m \u001b[39mimport\u001b[39;00m \u001b[39m*\u001b[39m  \u001b[39m# pylint: disable=wildcard-import\u001b[39;00m\n\u001b[1;32m     22\u001b[0m \u001b[39mfrom\u001b[39;00m \u001b[39mtrax\u001b[39;00m\u001b[39m.\u001b[39;00m\u001b[39mmath\u001b[39;00m\u001b[39m.\u001b[39;00m\u001b[39mjax\u001b[39;00m \u001b[39mimport\u001b[39;00m nested_map\n",
      "File \u001b[0;32m/Library/Frameworks/Python.framework/Versions/3.10/lib/python3.10/site-packages/trax/math/tf.py:26\u001b[0m, in \u001b[0;36m<module>\u001b[0;34m\u001b[0m\n\u001b[1;32m     23\u001b[0m \u001b[39mimport\u001b[39;00m \u001b[39mtensorflow\u001b[39;00m\u001b[39m.\u001b[39;00m\u001b[39mcompat\u001b[39;00m\u001b[39m.\u001b[39;00m\u001b[39mv2\u001b[39;00m \u001b[39mas\u001b[39;00m \u001b[39mtf\u001b[39;00m\n\u001b[1;32m     25\u001b[0m \u001b[39mfrom\u001b[39;00m \u001b[39mtrax\u001b[39;00m\u001b[39m.\u001b[39;00m\u001b[39mshapes\u001b[39;00m \u001b[39mimport\u001b[39;00m ShapeDtype\n\u001b[0;32m---> 26\u001b[0m \u001b[39mfrom\u001b[39;00m \u001b[39mtrax\u001b[39;00m\u001b[39m.\u001b[39;00m\u001b[39mtf_numpy\u001b[39;00m \u001b[39mimport\u001b[39;00m extensions \u001b[39mas\u001b[39;00m tf_np_extensions\n\u001b[1;32m     27\u001b[0m \u001b[39mfrom\u001b[39;00m \u001b[39mtrax\u001b[39;00m\u001b[39m.\u001b[39;00m\u001b[39mtf_numpy\u001b[39;00m \u001b[39mimport\u001b[39;00m numpy \u001b[39mas\u001b[39;00m tf_np\n\u001b[1;32m     30\u001b[0m \u001b[39mdef\u001b[39;00m \u001b[39mtf_abstract_eval\u001b[39m(f):\n",
      "File \u001b[0;32m/Library/Frameworks/Python.framework/Versions/3.10/lib/python3.10/site-packages/trax/tf_numpy/extensions/__init__.py:23\u001b[0m, in \u001b[0;36m<module>\u001b[0;34m\u001b[0m\n\u001b[1;32m     20\u001b[0m \u001b[39mfrom\u001b[39;00m \u001b[39m__future__\u001b[39;00m \u001b[39mimport\u001b[39;00m print_function\n\u001b[1;32m     22\u001b[0m \u001b[39m# pylint: disable=wildcard-import\u001b[39;00m\n\u001b[0;32m---> 23\u001b[0m \u001b[39mfrom\u001b[39;00m \u001b[39mtrax\u001b[39;00m\u001b[39m.\u001b[39;00m\u001b[39mtf_numpy\u001b[39;00m\u001b[39m.\u001b[39;00m\u001b[39mextensions\u001b[39;00m\u001b[39m.\u001b[39;00m\u001b[39mextensions\u001b[39;00m \u001b[39mimport\u001b[39;00m \u001b[39m*\u001b[39m\n",
      "File \u001b[0;32m/Library/Frameworks/Python.framework/Versions/3.10/lib/python3.10/site-packages/trax/tf_numpy/extensions/extensions.py:30\u001b[0m, in \u001b[0;36m<module>\u001b[0;34m\u001b[0m\n\u001b[1;32m     27\u001b[0m \u001b[39mimport\u001b[39;00m \u001b[39mnumpy\u001b[39;00m \u001b[39mas\u001b[39;00m \u001b[39mnp\u001b[39;00m\n\u001b[1;32m     28\u001b[0m \u001b[39mimport\u001b[39;00m \u001b[39mtensorflow\u001b[39;00m\u001b[39m.\u001b[39;00m\u001b[39mcompat\u001b[39;00m\u001b[39m.\u001b[39;00m\u001b[39mv2\u001b[39;00m \u001b[39mas\u001b[39;00m \u001b[39mtf\u001b[39;00m\n\u001b[0;32m---> 30\u001b[0m \u001b[39mfrom\u001b[39;00m \u001b[39mtrax\u001b[39;00m\u001b[39m.\u001b[39;00m\u001b[39mtf_numpy\u001b[39;00m\u001b[39m.\u001b[39;00m\u001b[39mnumpy\u001b[39;00m \u001b[39mimport\u001b[39;00m arrays\n\u001b[1;32m     31\u001b[0m \u001b[39mfrom\u001b[39;00m \u001b[39mtrax\u001b[39;00m\u001b[39m.\u001b[39;00m\u001b[39mtf_numpy\u001b[39;00m\u001b[39m.\u001b[39;00m\u001b[39mnumpy\u001b[39;00m \u001b[39mimport\u001b[39;00m random\n\u001b[1;32m     32\u001b[0m \u001b[39mfrom\u001b[39;00m \u001b[39mtrax\u001b[39;00m\u001b[39m.\u001b[39;00m\u001b[39mtf_numpy\u001b[39;00m\u001b[39m.\u001b[39;00m\u001b[39mnumpy\u001b[39;00m\u001b[39m.\u001b[39;00m\u001b[39marray_creation\u001b[39;00m \u001b[39mimport\u001b[39;00m array\n",
      "File \u001b[0;32m/Library/Frameworks/Python.framework/Versions/3.10/lib/python3.10/site-packages/trax/tf_numpy/numpy/__init__.py:27\u001b[0m, in \u001b[0;36m<module>\u001b[0;34m\u001b[0m\n\u001b[1;32m     24\u001b[0m \u001b[39mfrom\u001b[39;00m \u001b[39mtrax\u001b[39;00m\u001b[39m.\u001b[39;00m\u001b[39mtf_numpy\u001b[39;00m\u001b[39m.\u001b[39;00m\u001b[39mnumpy\u001b[39;00m \u001b[39mimport\u001b[39;00m random\n\u001b[1;32m     26\u001b[0m \u001b[39m# pylint: disable=wildcard-import\u001b[39;00m\n\u001b[0;32m---> 27\u001b[0m \u001b[39mfrom\u001b[39;00m \u001b[39mtrax\u001b[39;00m\u001b[39m.\u001b[39;00m\u001b[39mtf_numpy\u001b[39;00m\u001b[39m.\u001b[39;00m\u001b[39mnumpy\u001b[39;00m\u001b[39m.\u001b[39;00m\u001b[39marray_creation\u001b[39;00m \u001b[39mimport\u001b[39;00m \u001b[39m*\u001b[39m\n\u001b[1;32m     28\u001b[0m \u001b[39mfrom\u001b[39;00m \u001b[39mtrax\u001b[39;00m\u001b[39m.\u001b[39;00m\u001b[39mtf_numpy\u001b[39;00m\u001b[39m.\u001b[39;00m\u001b[39mnumpy\u001b[39;00m\u001b[39m.\u001b[39;00m\u001b[39marray_manipulation\u001b[39;00m \u001b[39mimport\u001b[39;00m \u001b[39m*\u001b[39m\n\u001b[1;32m     29\u001b[0m \u001b[39mfrom\u001b[39;00m \u001b[39mtrax\u001b[39;00m\u001b[39m.\u001b[39;00m\u001b[39mtf_numpy\u001b[39;00m\u001b[39m.\u001b[39;00m\u001b[39mnumpy\u001b[39;00m\u001b[39m.\u001b[39;00m\u001b[39marray_methods\u001b[39;00m \u001b[39mimport\u001b[39;00m \u001b[39m*\u001b[39m\n",
      "File \u001b[0;32m/Library/Frameworks/Python.framework/Versions/3.10/lib/python3.10/site-packages/trax/tf_numpy/numpy/array_creation.py:295\u001b[0m, in \u001b[0;36m<module>\u001b[0;34m\u001b[0m\n\u001b[1;32m    291\u001b[0m   result_t \u001b[39m=\u001b[39m utils\u001b[39m.\u001b[39mcond(utils\u001b[39m.\u001b[39mgreater(ndmin, ndims), true_fn, \u001b[39mlambda\u001b[39;00m: result_t)\n\u001b[1;32m    292\u001b[0m   \u001b[39mreturn\u001b[39;00m arrays\u001b[39m.\u001b[39mtensor_to_ndarray(result_t)\n\u001b[0;32m--> 295\u001b[0m \u001b[39m@utils\u001b[39m\u001b[39m.\u001b[39;49mnp_doc(np\u001b[39m.\u001b[39;49masarray)\n\u001b[1;32m    296\u001b[0m \u001b[39mdef\u001b[39;00m \u001b[39masarray\u001b[39m(a, dtype\u001b[39m=\u001b[39m\u001b[39mNone\u001b[39;00m):\n\u001b[1;32m    297\u001b[0m   \u001b[39mif\u001b[39;00m dtype:\n\u001b[1;32m    298\u001b[0m     dtype \u001b[39m=\u001b[39m utils\u001b[39m.\u001b[39mresult_type(dtype)\n",
      "File \u001b[0;32m/Library/Frameworks/Python.framework/Versions/3.10/lib/python3.10/site-packages/trax/tf_numpy/numpy/utils.py:192\u001b[0m, in \u001b[0;36mnp_doc\u001b[0;34m(np_fun)\u001b[0m\n\u001b[1;32m    182\u001b[0m \u001b[39mdef\u001b[39;00m \u001b[39mnp_doc\u001b[39m(np_fun):\n\u001b[1;32m    183\u001b[0m   \u001b[39m\"\"\"Attachs numpy docstring to a function.\u001b[39;00m\n\u001b[1;32m    184\u001b[0m \n\u001b[1;32m    185\u001b[0m \u001b[39m  Args:\u001b[39;00m\n\u001b[0;32m   (...)\u001b[0m\n\u001b[1;32m    190\u001b[0m \u001b[39m    decorated function.\u001b[39;00m\n\u001b[1;32m    191\u001b[0m \u001b[39m  \"\"\"\u001b[39;00m\n\u001b[0;32m--> 192\u001b[0m   np_sig \u001b[39m=\u001b[39m _np_signature(np_fun)\n\u001b[1;32m    193\u001b[0m   \u001b[39mdef\u001b[39;00m \u001b[39mdecorator\u001b[39m(f):\n\u001b[1;32m    194\u001b[0m     \u001b[39m\"\"\"The decorator.\"\"\"\u001b[39;00m\n",
      "File \u001b[0;32m/Library/Frameworks/Python.framework/Versions/3.10/lib/python3.10/site-packages/trax/tf_numpy/numpy/utils.py:136\u001b[0m, in \u001b[0;36m_np_signature\u001b[0;34m(f)\u001b[0m\n\u001b[1;32m    134\u001b[0m \u001b[39m\"\"\"An enhanced funcsigs.signature that can handle numpy.ufunc.\"\"\"\u001b[39;00m\n\u001b[1;32m    135\u001b[0m \u001b[39mif\u001b[39;00m \u001b[39mnot\u001b[39;00m \u001b[39misinstance\u001b[39m(f, np\u001b[39m.\u001b[39mufunc):\n\u001b[0;32m--> 136\u001b[0m   \u001b[39mreturn\u001b[39;00m funcsigs\u001b[39m.\u001b[39;49msignature(f)\n\u001b[1;32m    137\u001b[0m \u001b[39mdef\u001b[39;00m \u001b[39mnames_from_num\u001b[39m(prefix, n):\n\u001b[1;32m    138\u001b[0m   \u001b[39mif\u001b[39;00m n \u001b[39m<\u001b[39m\u001b[39m=\u001b[39m \u001b[39m0\u001b[39m:\n",
      "File \u001b[0;32m/Library/Frameworks/Python.framework/Versions/3.10/lib/python3.10/site-packages/funcsigs/__init__.py:185\u001b[0m, in \u001b[0;36msignature\u001b[0;34m(obj)\u001b[0m\n\u001b[1;32m    182\u001b[0m \u001b[39mif\u001b[39;00m \u001b[39misinstance\u001b[39m(obj, types\u001b[39m.\u001b[39mBuiltinFunctionType):\n\u001b[1;32m    183\u001b[0m     \u001b[39m# Raise a nicer error message for builtins\u001b[39;00m\n\u001b[1;32m    184\u001b[0m     msg \u001b[39m=\u001b[39m \u001b[39m'\u001b[39m\u001b[39mno signature found for builtin function \u001b[39m\u001b[39m{0!r}\u001b[39;00m\u001b[39m'\u001b[39m\u001b[39m.\u001b[39mformat(obj)\n\u001b[0;32m--> 185\u001b[0m     \u001b[39mraise\u001b[39;00m \u001b[39mValueError\u001b[39;00m(msg)\n\u001b[1;32m    187\u001b[0m \u001b[39mraise\u001b[39;00m \u001b[39mValueError\u001b[39;00m(\u001b[39m'\u001b[39m\u001b[39mcallable \u001b[39m\u001b[39m{0!r}\u001b[39;00m\u001b[39m is not supported by signature\u001b[39m\u001b[39m'\u001b[39m\u001b[39m.\u001b[39mformat(obj))\n",
      "\u001b[0;31mValueError\u001b[0m: no signature found for builtin function <built-in function asarray>"
     ]
    }
   ],
   "source": [
    "import numpy as np  # regular ol' numpy\n",
    "\n",
    "from trax import layers as tl  # core building block\n",
    "from trax import shapes  # data signatures: dimensionality and type\n",
    "from trax import fastmath  # uses jax, offers numpy on steroids"
   ]
  },
  {
   "cell_type": "code",
   "execution_count": null,
   "metadata": {},
   "outputs": [],
   "source": []
  }
 ],
 "metadata": {
  "kernelspec": {
   "display_name": "Python 3.10.4 64-bit",
   "language": "python",
   "name": "python3"
  },
  "language_info": {
   "codemirror_mode": {
    "name": "ipython",
    "version": 3
   },
   "file_extension": ".py",
   "mimetype": "text/x-python",
   "name": "python",
   "nbconvert_exporter": "python",
   "pygments_lexer": "ipython3",
   "version": "3.10.4"
  },
  "orig_nbformat": 4,
  "vscode": {
   "interpreter": {
    "hash": "aee8b7b246df8f9039afb4144a1f6fd8d2ca17a180786b69acc140d282b71a49"
   }
  }
 },
 "nbformat": 4,
 "nbformat_minor": 2
}
